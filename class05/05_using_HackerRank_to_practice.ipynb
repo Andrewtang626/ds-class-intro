{
 "cells": [
  {
   "cell_type": "markdown",
   "metadata": {},
   "source": [
    "# Intro to Python3 - Class05\n",
    "\n",
    "### Class agenda:\n",
    "##### 9. Using HackerRank to practice your programming skill\n",
    "\n",
    "\n",
    "## 9. Using HackerRank to practice your programming skill\n",
    "There are lots of online resources you can use to practice data structure and algo. Two popular options are Leet Code and Hacker Rank. Many companies use them for interviews too. So if you practice and get familairized with the interface, you might already set yourself up for success.\n",
    "\n",
    "I'll take HackerRank to examples in this class. Let's look at a problem together and learn about the website.\n",
    "\n",
    "- [if-else problem](https://www.hackerrank.com/challenges/py-if-else/problem)"
   ]
  },
  {
   "cell_type": "code",
   "execution_count": 15,
   "metadata": {
    "scrolled": true
   },
   "outputs": [
    {
     "name": "stdout",
     "output_type": "stream",
     "text": [
      "123\n",
      "Weird\n"
     ]
    }
   ],
   "source": [
    "#!/bin/python3\n",
    "\n",
    "import math\n",
    "import os\n",
    "import random\n",
    "import re\n",
    "import sys\n",
    "\n",
    "\n",
    "\n",
    "if __name__ == '__main__':\n",
    "    n = int(input().strip())\n",
    "    if n % 2:\n",
    "        print('Weird')\n",
    "    elif n <= 5 or n > 20:\n",
    "        print('Not Weird')\n",
    "    else:\n",
    "        print('Weird')"
   ]
  },
  {
   "cell_type": "code",
   "execution_count": 16,
   "metadata": {},
   "outputs": [
    {
     "name": "stdout",
     "output_type": "stream",
     "text": [
      "1\n",
      "2\n"
     ]
    }
   ],
   "source": [
    "print('1','2',sep = '\\n')"
   ]
  },
  {
   "cell_type": "markdown",
   "metadata": {},
   "source": [
    "Solving the problem is the first step, then you can challeng yourself to use less and less compexity in your solution. Let's take the following problem as an example\n",
    "\n",
    "- [mini-max-sum](https://www.hackerrank.com/challenges/mini-max-sum/problem)"
   ]
  },
  {
   "cell_type": "code",
   "execution_count": 21,
   "metadata": {},
   "outputs": [
    {
     "name": "stdout",
     "output_type": "stream",
     "text": [
      "123\n",
      "(123, 123)\n"
     ]
    }
   ],
   "source": [
    "import math\n",
    "import os\n",
    "import random\n",
    "import re\n",
    "import sys\n",
    "\n",
    "# Complete the miniMaxSum function below.\n",
    "def miniMaxSum(arr):\n",
    "    s_arr = sorted(arr)\n",
    "    return(sum(s_arr[:4]), sum(s_arr[-4:]))\n",
    "\n",
    "if __name__ == '__main__':\n",
    "    arr = list(map(int, input().rstrip().split()))\n",
    "    \n",
    "    print(miniMaxSum(arr))"
   ]
  },
  {
   "cell_type": "code",
   "execution_count": 18,
   "metadata": {},
   "outputs": [],
   "source": [
    "def miniMaxSum_2(arr):\n",
    "    asum = sum(arr)\n",
    "    return(asum - max(arr), asum - min(arr))"
   ]
  },
  {
   "cell_type": "code",
   "execution_count": 19,
   "metadata": {},
   "outputs": [],
   "source": [
    "def miniMaxSum_3(arr):\n",
    "    amin = math.inf\n",
    "    amax = -math.inf\n",
    "    asum = 0\n",
    "    for a in arr:\n",
    "        if a < amin: amin = a\n",
    "        if a > amax: amax = a\n",
    "        asum += a\n",
    "    return(asum - amax, asum - amin)"
   ]
  },
  {
   "cell_type": "code",
   "execution_count": 26,
   "metadata": {},
   "outputs": [],
   "source": [
    "from numpy import random\n"
   ]
  },
  {
   "cell_type": "code",
   "execution_count": 28,
   "metadata": {},
   "outputs": [
    {
     "data": {
      "text/plain": [
       "array([169, 891,  24, 944, 143, 267, 479, 776,  50, 416, 549, 448, 950,\n",
       "       481, 887, 508, 676, 566, 867, 537, 328, 563, 115, 991, 772, 834,\n",
       "       311, 538, 445, 248, 824, 258, 869, 493, 517, 577, 717,  44, 967,\n",
       "       349, 122, 142, 275, 623, 768, 594, 830, 256,  42, 888, 152, 722,\n",
       "       722, 340, 793, 774, 109, 949, 106, 393, 598, 804, 583, 193, 911,\n",
       "       349,  99, 449, 734, 345, 673, 720, 813, 953, 279, 418,  99, 451,\n",
       "       530,  14, 137, 584, 556, 962, 927, 474, 739, 919, 792, 864, 377,\n",
       "        17, 962, 992, 917, 870, 494, 797, 174, 105, 660, 644, 629, 812,\n",
       "       691, 655, 352, 873,   1, 824, 104, 959, 386, 940, 671, 394, 169,\n",
       "       971, 446, 256, 292, 455, 117, 969, 981, 612, 727, 300, 305, 504,\n",
       "       518, 694, 435, 646, 994, 487,  22, 379, 204, 973, 845, 759,  33,\n",
       "        53, 958, 215, 352, 378, 425, 450,  45, 276, 972, 589, 363, 632,\n",
       "       288, 300,  55, 914, 708, 579, 767, 515, 907,  48, 527,  86, 206,\n",
       "       247, 221, 228, 332, 975, 758,  78, 453,   4, 830, 218, 455, 821,\n",
       "       786, 344, 590, 137, 171,  14, 802, 933, 552, 195, 435, 302, 311,\n",
       "       201, 383, 942, 558, 659])"
      ]
     },
     "execution_count": 28,
     "metadata": {},
     "output_type": "execute_result"
    }
   ],
   "source": [
    "a1 = random.randint(1, 1000, 200)\n",
    "a1"
   ]
  },
  {
   "cell_type": "code",
   "execution_count": 29,
   "metadata": {
    "scrolled": true
   },
   "outputs": [
    {
     "name": "stdout",
     "output_type": "stream",
     "text": [
      "37.3 µs ± 1.04 µs per loop (mean ± std. dev. of 7 runs, 10000 loops each)\n"
     ]
    }
   ],
   "source": [
    "%timeit miniMaxSum(a1)"
   ]
  },
  {
   "cell_type": "code",
   "execution_count": 30,
   "metadata": {},
   "outputs": [
    {
     "name": "stdout",
     "output_type": "stream",
     "text": [
      "58.8 µs ± 3.81 µs per loop (mean ± std. dev. of 7 runs, 10000 loops each)\n"
     ]
    }
   ],
   "source": [
    "%timeit miniMaxSum_2(a1)"
   ]
  },
  {
   "cell_type": "code",
   "execution_count": 31,
   "metadata": {},
   "outputs": [
    {
     "name": "stdout",
     "output_type": "stream",
     "text": [
      "40.8 µs ± 743 ns per loop (mean ± std. dev. of 7 runs, 10000 loops each)\n"
     ]
    }
   ],
   "source": [
    "%timeit miniMaxSum_3(a1)"
   ]
  },
  {
   "cell_type": "code",
   "execution_count": 32,
   "metadata": {},
   "outputs": [],
   "source": [
    "import numpy as np\n",
    "import timeit\n",
    "import pandas as pd\n",
    "%matplotlib inline"
   ]
  },
  {
   "cell_type": "code",
   "execution_count": 36,
   "metadata": {},
   "outputs": [
    {
     "data": {
      "text/plain": [
       "<matplotlib.axes._subplots.AxesSubplot at 0x1b79cdf2708>"
      ]
     },
     "execution_count": 36,
     "metadata": {},
     "output_type": "execute_result"
    },
    {
     "data": {
      "image/png": "[encoded data removed]",
      "text/plain": [
       "<Figure size 432x288 with 1 Axes>"
      ]
     },
     "metadata": {
      "needs_background": "light"
     },
     "output_type": "display_data"
    }
   ],
   "source": [
    "performance = {}\n",
    "\n",
    "for n in np.logspace(1, 6, num=20):\n",
    "    sample_size = int(np.ceil(n))\n",
    "    a = np.random.randint(1, 1000, sample_size)\n",
    "    t1 = timeit.timeit('miniMaxSum(a)','from __main__ import miniMaxSum, a', number=100)\n",
    "    t2 = timeit.timeit('miniMaxSum_2(a)','from __main__ import miniMaxSum_2, a', number=100)\n",
    "    t3 = timeit.timeit('miniMaxSum_3(a)','from __main__ import miniMaxSum_3, a', number=100)\n",
    "    performance[sample_size] = (t1, t2, t3)\n",
    "    \n",
    "perf_df = pd.DataFrame.from_dict(performance, orient='index')\n",
    "perf_df.plot(kind='line')"
   ]
  },
  {
   "cell_type": "code",
   "execution_count": 40,
   "metadata": {},
   "outputs": [
    {
     "name": "stdout",
     "output_type": "stream",
     "text": [
      "10.0\n",
      "18.329807108324356\n",
      "33.59818286283781\n",
      "61.58482110660264\n",
      "112.88378916846884\n",
      "206.913808111479\n",
      "379.26901907322497\n",
      "695.1927961775606\n",
      "1274.2749857031336\n",
      "2335.7214690901214\n",
      "4281.332398719392\n",
      "7847.5997035146065\n",
      "14384.498882876629\n",
      "26366.508987303554\n",
      "48329.30238571752\n",
      "88586.67904100832\n",
      "162377.67391887208\n",
      "297635.14416313195\n",
      "545559.4781168514\n",
      "1000000.0\n",
      "1000000.0\n"
     ]
    }
   ],
   "source": [
    "for n in np.logspace(1,6,num = 20):\n",
    "    print(n)\n",
    "print(np.ceil(n))"
   ]
  },
  {
   "cell_type": "code",
   "execution_count": 37,
   "metadata": {},
   "outputs": [
    {
     "data": {
      "text/plain": [
       "1000000.0"
      ]
     },
     "execution_count": 37,
     "metadata": {},
     "output_type": "execute_result"
    }
   ],
   "source": []
  }
 ],
 "metadata": {
  "kernelspec": {
   "display_name": "Python 3",
   "language": "python",
   "name": "python3"
  },
  "language_info": {
   "codemirror_mode": {
    "name": "ipython",
    "version": 3
   },
   "file_extension": ".py",
   "mimetype": "text/x-python",
   "name": "python",
   "nbconvert_exporter": "python",
   "pygments_lexer": "ipython3",
   "version": "3.7.7"
  }
 },
 "nbformat": 4,
 "nbformat_minor": 2
}
